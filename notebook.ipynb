{
 "cells": [
  {
   "source": [
    "from IPython.core.magic import register_line_cell_magic\n",
    "from main import user_typed_prompt\n",
    "\n",
    "@register_line_cell_magic\n",
    "def myschema(line):\n",
    "    user_typed_prompt(line)"
   ],
   "metadata": {
    "is_executing": true
   },
   "cell_type": "code",
   "id": "81cc9f5c-05fe-47df-a9f9-c6027f128e24",
   "execution_count": null,
   "outputs": []
  },
  {
   "cell_type": "code",
   "execution_count": null,
   "outputs": [],
   "source": [
    "%myschema \"What is in my sales table in my database?\""
   ],
   "metadata": {
    "collapsed": false
   }
  },
  {
   "cell_type": "code",
   "execution_count": null,
   "outputs": [],
   "source": [],
   "metadata": {
    "collapsed": false
   }
  }
 ],
 "metadata": {
  "colab": {
   "name": "Welcome to DataCamp Workspaces.ipynb",
   "provenance": []
  },
  "kernelspec": {
   "display_name": "Python 3 (ipykernel)",
   "language": "python",
   "name": "python3"
  },
  "language_info": {
   "codemirror_mode": {
    "name": "ipython",
    "version": 3
   },
   "file_extension": ".py",
   "mimetype": "text/x-python",
   "name": "python",
   "nbconvert_exporter": "python",
   "pygments_lexer": "ipython3",
   "version": "3.8.10"
  }
 },
 "nbformat": 4,
 "nbformat_minor": 5
}
