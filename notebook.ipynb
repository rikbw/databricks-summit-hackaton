{
 "cells": [
  {
   "cell_type": "code",
   "execution_count": 13,
   "id": "81cc9f5c-05fe-47df-a9f9-c6027f128e24",
   "metadata": {},
   "outputs": [],
   "source": [
    "from IPython.core.magic import register_line_cell_magic\n",
    "from main import user_typed_prompt\n",
    "\n",
    "@register_line_cell_magic\n",
    "def myschema(line):\n",
    "    user_typed_prompt(line)"
   ]
  },
  {
   "cell_type": "code",
   "execution_count": 14,
   "id": "a68d4bf0-a087-4c96-b31f-1860cf9d46e2",
   "metadata": {},
   "outputs": [
    {
     "name": "stdout",
     "output_type": "stream",
     "text": [
      "This is data about <insert table information here>!\n"
     ]
    }
   ],
   "source": [
    "%myschema \"What is in my sales table in my database?\""
   ]
  },
  {
   "cell_type": "code",
   "execution_count": null,
   "id": "15f643be-a4c5-4f6d-b8f5-be7ff9dc35ed",
   "metadata": {},
   "outputs": [],
   "source": []
  }
 ],
 "metadata": {
  "colab": {
   "name": "Welcome to DataCamp Workspaces.ipynb",
   "provenance": []
  },
  "kernelspec": {
   "display_name": "Python 3 (ipykernel)",
   "language": "python",
   "name": "python3"
  },
  "language_info": {
   "codemirror_mode": {
    "name": "ipython",
    "version": 3
   },
   "file_extension": ".py",
   "mimetype": "text/x-python",
   "name": "python",
   "nbconvert_exporter": "python",
   "pygments_lexer": "ipython3",
   "version": "3.9.16"
  }
 },
 "nbformat": 4,
 "nbformat_minor": 5
}
