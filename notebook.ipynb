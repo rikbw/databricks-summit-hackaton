{
 "cells": [
  {
   "cell_type": "markdown",
   "source": [
    "# SchemaSpy\n",
    "\n",
    "SchemaSpy is implemented as a Jupyter Notebook \"magic command\". This means that you can use it in a Jupyter Notebook, or in a JupyterLab environment.\n",
    "\n",
    "This is convenient because it means that you can use SchemaSpy while you work, without leaving your notebook environment."
   ],
   "metadata": {
    "collapsed": false
   }
  },
  {
   "source": [
    "from IPython.core.magic import register_line_cell_magic\n",
    "from main import user_typed_prompt\n",
    "\n",
    "@register_line_cell_magic\n",
    "def schema_spy(line):\n",
    "    user_typed_prompt(line)"
   ],
   "metadata": {
    "ExecuteTime": {
     "end_time": "2023-06-26T21:50:24.662797Z",
     "start_time": "2023-06-26T21:50:24.661893Z"
    }
   },
   "cell_type": "code",
   "id": "81cc9f5c-05fe-47df-a9f9-c6027f128e24",
   "execution_count": 6,
   "outputs": []
  },
  {
   "cell_type": "markdown",
   "source": [
    "# Interrogating the Schema"
   ],
   "metadata": {
    "collapsed": false
   }
  },
  {
   "cell_type": "code",
   "execution_count": null,
   "outputs": [],
   "source": [
    "%schema_spy \"What are all the tables in my database? Include a description of the tables.\""
   ],
   "metadata": {
    "collapsed": false,
    "is_executing": true,
    "ExecuteTime": {
     "start_time": "2023-06-26T21:55:40.780780Z"
    }
   }
  },
  {
   "cell_type": "code",
   "execution_count": 8,
   "outputs": [
    {
     "data": {
      "text/plain": "<IPython.core.display.HTML object>",
      "text/html": "<!DOCTYPE html>\n<html>\n<head>\n<style>\ntable {\n  width:100%;\n}\n\ntable, th, td {\n  border: 1px solid black;\n  border-collapse: collapse;\n}\n\nth, td {\n  padding: 15px;\n  text-align: left;\n}\n\nth {\n  background-color: #f2f2f2;\n}\n</style>\n</head>\n<body>\n\n<h2>Album Table</h2>\n\n<table>\n  <tr>\n    <th>Column</th>\n    <th>Description</th>\n  </tr>\n  <tr>\n    <td>AlbumId</td>\n    <td>An identifier for each album in the database.</td>\n  </tr>\n  <tr>\n    <td>Title</td>\n    <td>The title of the album.</td>\n  </tr>\n  <tr>\n    <td>ArtistId</td>\n    <td>An identifier for the artist associated with the album.</td>\n  </tr>\n</table>\n\n</body>\n</html>"
     },
     "metadata": {},
     "output_type": "display_data"
    }
   ],
   "source": [
    "%schema_spy \"What information can I find in the album table?\""
   ],
   "metadata": {
    "collapsed": false,
    "ExecuteTime": {
     "end_time": "2023-06-26T21:51:06.504676Z",
     "start_time": "2023-06-26T21:50:59.285510Z"
    }
   }
  },
  {
   "cell_type": "code",
   "execution_count": 9,
   "outputs": [
    {
     "data": {
      "text/plain": "<IPython.core.display.HTML object>",
      "text/html": "<html>\n  <body>\n    <h1>Column Names and Descriptions in the Album Table</h1>\n    <table>\n      <tr>\n        <th>Column Name</th>\n        <th>Description</th>\n      </tr>\n      <tr>\n        <td>AlbumId</td>\n        <td>An integer column that serves as the primary key for the table. It uniquely identifies each album in the database.</td>\n      </tr>\n      <tr>\n        <td>Title</td>\n        <td>An NVARCHAR(160) column that stores the title of the album. It is a required field and cannot be null.</td>\n      </tr>\n      <tr>\n        <td>ArtistId</td>\n        <td>An integer column that references the \"ArtistId\" column in the \"Artist\" table. It represents the artist associated with the album.</td>\n      </tr>\n    </table>\n  </body>\n</html>"
     },
     "metadata": {},
     "output_type": "display_data"
    }
   ],
   "source": [
    "%schema_spy \"What are the column names in the album table? Write a description of these columns.\""
   ],
   "metadata": {
    "collapsed": false,
    "ExecuteTime": {
     "end_time": "2023-06-26T21:51:18.971582Z",
     "start_time": "2023-06-26T21:51:09.780886Z"
    }
   }
  },
  {
   "cell_type": "markdown",
   "source": [
    "# Previewing data"
   ],
   "metadata": {
    "collapsed": false
   }
  },
  {
   "cell_type": "code",
   "execution_count": 10,
   "outputs": [
    {
     "data": {
      "text/plain": "<IPython.core.display.HTML object>",
      "text/html": "<!DOCTYPE html>\n<html>\n<head>\n<style>\ntable {\n  font-family: arial, sans-serif;\n  border-collapse: collapse;\n  width: 100%;\n}\n\ntd, th {\n  border: 1px solid #dddddd;\n  text-align: left;\n  padding: 8px;\n}\n\ntr:nth-child(even) {\n  background-color: #dddddd;\n}\n</style>\n</head>\n<body>\n\n<h2>Album Table</h2>\n\n<table>\n  <tr>\n    <th>AlbumId</th>\n    <th>Title</th>\n    <th>ArtistId</th>\n  </tr>\n  <tr>\n    <td>1</td>\n    <td>For Those About To Rock We Salute You</td>\n    <td>1</td>\n  </tr>\n  <tr>\n    <td>2</td>\n    <td>Balls to the Wall</td>\n    <td>2</td>\n  </tr>\n  <tr>\n    <td>3</td>\n    <td>Restless and Wild</td>\n    <td>2</td>\n  </tr>\n  <tr>\n    <td>4</td>\n    <td>Let There Be Rock</td>\n    <td>1</td>\n  </tr>\n  <tr>\n    <td>5</td>\n    <td>Big Ones</td>\n    <td>3</td>\n  </tr>\n</table>\n\n</body>\n</html>"
     },
     "metadata": {},
     "output_type": "display_data"
    }
   ],
   "source": [
    "%schema_spy \"What is some example data from the album table?\""
   ],
   "metadata": {
    "collapsed": false,
    "ExecuteTime": {
     "end_time": "2023-06-26T21:51:35.329705Z",
     "start_time": "2023-06-26T21:51:25.510198Z"
    }
   }
  },
  {
   "cell_type": "code",
   "execution_count": 11,
   "outputs": [
    {
     "data": {
      "text/plain": "<IPython.core.display.HTML object>",
      "text/html": "<!DOCTYPE html>\n<html>\n<head>\n  <style>\n    table {\n      width: 100%;\n      border-collapse: collapse;\n    }\n    th, td {\n      border: 1px solid black;\n      padding: 8px;\n      text-align: left;\n    }\n  </style>\n</head>\n<body>\n  <h1>Track Table</h1>\n  <table>\n    <tr>\n      <th>TrackId</th>\n      <th>Name</th>\n      <th>AlbumId</th>\n      <th>MediaTypeId</th>\n      <th>GenreId</th>\n      <th>Composer</th>\n      <th>Milliseconds</th>\n      <th>Bytes</th>\n      <th>UnitPrice</th>\n    </tr>\n    <tr>\n      <td>1</td>\n      <td>For Those About To Rock (We Salute You)</td>\n      <td>1</td>\n      <td>1</td>\n      <td>1</td>\n      <td>Angus Young, Malcolm Young, Brian Johnson</td>\n      <td>343719</td>\n      <td>11170334</td>\n      <td>0.99</td>\n    </tr>\n    <tr>\n      <td>2</td>\n      <td>Balls to the Wall</td>\n      <td>2</td>\n      <td>2</td>\n      <td>1</td>\n      <td>None</td>\n      <td>342562</td>\n      <td>5510424</td>\n      <td>0.99</td>\n    </tr>\n    <tr>\n      <td>3</td>\n      <td>Fast As a Shark</td>\n      <td>3</td>\n      <td>2</td>\n      <td>1</td>\n      <td>F. Baltes, S. Kaufman, U. Dirkscneider & W. Hoffman</td>\n      <td>230619</td>\n      <td>3990994</td>\n      <td>0.99</td>\n    </tr>\n    <tr>\n      <td>4</td>\n      <td>Restless and Wild</td>\n      <td>3</td>\n      <td>2</td>\n      <td>1</td>\n      <td>F. Baltes, R.A. Smith-Diesel, S. Kaufman, U. Dirkscneider & W. Hoffman</td>\n      <td>252051</td>\n      <td>4331779</td>\n      <td>0.99</td>\n    </tr>\n    <tr>\n      <td>5</td>\n      <td>Princess of the Dawn</td>\n      <td>3</td>\n      <td>2</td>\n      <td>1</td>\n      <td>Deaffy & R.A. Smith-Diesel</td>\n      <td>375418</td>\n      <td>6290521</td>\n      <td>0.99</td>\n    </tr>\n  </table>\n</body>\n</html>"
     },
     "metadata": {},
     "output_type": "display_data"
    }
   ],
   "source": [
    "%schema_spy \"What is some example data from the track table?\""
   ],
   "metadata": {
    "collapsed": false,
    "ExecuteTime": {
     "end_time": "2023-06-26T21:51:59.355938Z",
     "start_time": "2023-06-26T21:51:37.408013Z"
    }
   }
  },
  {
   "cell_type": "markdown",
   "source": [
    "# Multi-lingual\n",
    "\n",
    "We can take advantage of the fact that the LLM can understand multiple languages. For example, we have a table called \"Produkt\" in our database. The column names in this database are in German. If you are not a native German speaker, this can be a bit of a challenge. However, we can use the LLM to automatically translate the column names into English."
   ],
   "metadata": {
    "collapsed": false
   }
  },
  {
   "cell_type": "code",
   "execution_count": 12,
   "outputs": [
    {
     "data": {
      "text/plain": "<IPython.core.display.HTML object>",
      "text/html": "<table>\n  <tr>\n    <th>Column Name</th>\n    <th>Description</th>\n  </tr>\n  <tr>\n    <td>ProduktID</td>\n    <td>Represents the unique identifier for each product</td>\n  </tr>\n  <tr>\n    <td>Name</td>\n    <td>Stores the name of the product</td>\n  </tr>\n  <tr>\n    <td>Beschreibung</td>\n    <td>Contains a description of the product</td>\n  </tr>\n  <tr>\n    <td>Preis</td>\n    <td>Stores the price of the product</td>\n  </tr>\n</table>"
     },
     "metadata": {},
     "output_type": "display_data"
    }
   ],
   "source": [
    "%schema_spy \"What are the column names in the Produkt table? Provide a description, in English.\""
   ],
   "metadata": {
    "collapsed": false,
    "ExecuteTime": {
     "end_time": "2023-06-26T21:52:11.444939Z",
     "start_time": "2023-06-26T21:52:03.756689Z"
    }
   }
  },
  {
   "cell_type": "code",
   "execution_count": null,
   "outputs": [],
   "source": [],
   "metadata": {
    "collapsed": false
   }
  }
 ],
 "metadata": {
  "colab": {
   "name": "Welcome to DataCamp Workspaces.ipynb",
   "provenance": []
  },
  "kernelspec": {
   "display_name": "Python 3 (ipykernel)",
   "language": "python",
   "name": "python3"
  },
  "language_info": {
   "codemirror_mode": {
    "name": "ipython",
    "version": 3
   },
   "file_extension": ".py",
   "mimetype": "text/x-python",
   "name": "python",
   "nbconvert_exporter": "python",
   "pygments_lexer": "ipython3",
   "version": "3.8.10"
  }
 },
 "nbformat": 4,
 "nbformat_minor": 5
}
